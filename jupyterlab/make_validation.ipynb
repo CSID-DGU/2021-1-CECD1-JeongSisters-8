{
 "cells": [
  {
   "cell_type": "markdown",
   "id": "94749798-7aec-4aae-a9ec-27b71d68b564",
   "metadata": {},
   "source": [
    "https://keyog.tistory.com/6 참고"
   ]
  },
  {
   "cell_type": "code",
   "execution_count": 1,
   "id": "7651a42c-93b9-473c-92d0-ef9eaf934729",
   "metadata": {},
   "outputs": [],
   "source": [
    "# train.txt 순서 섞기\n",
    "\n",
    "import random\n",
    "\n",
    "\n",
    "txt = open('./darknet/data/train.txt','r')\n",
    "f = open('train_suffle.txt','w')\n",
    "\n",
    "tmp = []\n",
    "\n",
    "while True :\n",
    "    line = txt.readline()\n",
    "    if not line:\n",
    "        break\n",
    "    tmp.append(line)\n",
    "    \n",
    "random.shuffle(tmp)\n",
    "for i in tmp :\n",
    "    f.write(i)\n",
    "    \n",
    "txt.close()\n",
    "f.close()\n"
   ]
  },
  {
   "cell_type": "code",
   "execution_count": 2,
   "id": "78562c8e-8d03-44fe-bfe9-510ac658e2ab",
   "metadata": {},
   "outputs": [],
   "source": [
    "count = 0\n",
    "length = 3566 #total line\n",
    "txt = open('train_suffle.txt','r')\n",
    "\n",
    "i = 0\n",
    "\n",
    "f = open('./darknet/data/train.txt','w')\n",
    "f2 = open('./darknet/data/validation.txt','w')\n",
    "\n",
    "while True :\n",
    "    if i == 0 :\n",
    "        line = txt.readline()\n",
    "        if not line :\n",
    "            break\n",
    "        count +=1\n",
    "        if count < int(length/10)*2 :\n",
    "            f2.write(line)\n",
    "        else :\n",
    "            f.write(line)\n",
    "            \n",
    "txt.close()\n",
    "f.close()\n",
    "f2.close()\n"
   ]
  },
  {
   "cell_type": "code",
   "execution_count": null,
   "id": "8056d5a1-a381-49e2-8beb-ccfe6699ecb5",
   "metadata": {},
   "outputs": [],
   "source": [
    "# train:validation = 8:2로 나눔"
   ]
  },
  {
   "cell_type": "code",
   "execution_count": 1,
   "id": "b0e282c7-c9ab-4bc5-bb3b-b00eb3fac5ce",
   "metadata": {},
   "outputs": [
    {
     "name": "stdout",
     "output_type": "stream",
     "text": [
      "/home/irteam\n"
     ]
    }
   ],
   "source": [
    "##test.txt만들기\n",
    "!pwd"
   ]
  },
  {
   "cell_type": "code",
   "execution_count": 2,
   "id": "c63009b6-687b-4143-8519-734ee95641ac",
   "metadata": {},
   "outputs": [
    {
     "name": "stdout",
     "output_type": "stream",
     "text": [
      "/home/irteam/darknet/data\n"
     ]
    }
   ],
   "source": [
    "%cd darknet/data"
   ]
  },
  {
   "cell_type": "code",
   "execution_count": 4,
   "id": "c3fb1574-69bf-4404-9238-593bd79efc36",
   "metadata": {},
   "outputs": [],
   "source": [
    "!python generate_train.py"
   ]
  },
  {
   "cell_type": "code",
   "execution_count": null,
   "id": "9dfe5447-8326-4423-bb43-3051b8e549ca",
   "metadata": {},
   "outputs": [],
   "source": []
  }
 ],
 "metadata": {
  "kernelspec": {
   "display_name": "Python 3",
   "language": "python",
   "name": "python3"
  },
  "language_info": {
   "codemirror_mode": {
    "name": "ipython",
    "version": 3
   },
   "file_extension": ".py",
   "mimetype": "text/x-python",
   "name": "python",
   "nbconvert_exporter": "python",
   "pygments_lexer": "ipython3",
   "version": "3.6.9"
  }
 },
 "nbformat": 4,
 "nbformat_minor": 5
}
