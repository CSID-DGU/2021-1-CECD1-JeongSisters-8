{
 "cells": [
  {
   "cell_type": "code",
   "execution_count": 8,
   "id": "bb23b530-e78b-4846-811e-40873c150c02",
   "metadata": {},
   "outputs": [],
   "source": [
    "import cv2"
   ]
  },
  {
   "cell_type": "code",
   "execution_count": 9,
   "id": "1a193a58-b081-47bb-85ab-bea0e72ba77a",
   "metadata": {},
   "outputs": [
    {
     "data": {
      "text/plain": [
       "'4.5.0'"
      ]
     },
     "execution_count": 9,
     "metadata": {},
     "output_type": "execute_result"
    }
   ],
   "source": [
    "cv2.__version__"
   ]
  },
  {
   "cell_type": "code",
   "execution_count": null,
   "id": "e5f8a0e3-127b-4a2f-81ce-29ddcb2b9d82",
   "metadata": {},
   "outputs": [],
   "source": [
    "!sudo apt install libopencv-dev -y"
   ]
  },
  {
   "cell_type": "code",
   "execution_count": 7,
   "id": "c5df9b5a-3793-4549-ba6f-66b1ce74b836",
   "metadata": {},
   "outputs": [
    {
     "name": "stdout",
     "output_type": "stream",
     "text": [
      "Package opencv was not found in the pkg-config search path.\n",
      "Perhaps you should add the directory containing `opencv.pc'\n",
      "to the PKG_CONFIG_PATH environment variable\n",
      "No package 'opencv' found\n"
     ]
    }
   ],
   "source": [
    "!pkg-config --modversion opencv"
   ]
  },
  {
   "cell_type": "code",
   "execution_count": 17,
   "id": "15d5c2ee-ac4c-41a8-a426-2773ea3fde0e",
   "metadata": {},
   "outputs": [
    {
     "name": "stdout",
     "output_type": "stream",
     "text": [
      "/usr/local/cuda-11.1/bin\n"
     ]
    }
   ],
   "source": [
    "%cd /usr/local/cuda-11.1/bin/nvcc"
   ]
  },
  {
   "cell_type": "code",
   "execution_count": 1,
   "id": "ca18e212-0ce2-4d30-a345-c82494be0a5b",
   "metadata": {},
   "outputs": [
    {
     "name": "stdout",
     "output_type": "stream",
     "text": [
      "/home/irteam\n"
     ]
    }
   ],
   "source": [
    "!pwd"
   ]
  },
  {
   "cell_type": "code",
   "execution_count": 31,
   "id": "147b25ca-b92e-4aea-9c54-cab0ca59fc98",
   "metadata": {},
   "outputs": [
    {
     "name": "stdout",
     "output_type": "stream",
     "text": [
      "Cloning into 'YOLO_AIWasher'...\n",
      "remote: Enumerating objects: 168, done.\u001b[K\n",
      "remote: Counting objects: 100% (168/168), done.\u001b[K\n",
      "remote: Compressing objects: 100% (148/148), done.\u001b[K\n",
      "remote: Total 168 (delta 19), reused 152 (delta 12), pack-reused 0\u001b[K\n",
      "Receiving objects: 100% (168/168), 7.19 MiB | 10.75 MiB/s, done.\n",
      "Resolving deltas: 100% (19/19), done.\n"
     ]
    }
   ],
   "source": [
    "!git clone https://github.com/jiyeon1/YOLO_AIWasher.git"
   ]
  },
  {
   "cell_type": "code",
   "execution_count": 1,
   "id": "b3c77de0-c048-49da-b889-9a08b8f06daf",
   "metadata": {},
   "outputs": [
    {
     "name": "stdout",
     "output_type": "stream",
     "text": [
      "/home/irteam/darknet\n"
     ]
    }
   ],
   "source": [
    "%cd darknet"
   ]
  },
  {
   "cell_type": "code",
   "execution_count": 3,
   "id": "ec534fea-0fbc-4184-bdda-6a0754533bd8",
   "metadata": {},
   "outputs": [],
   "source": [
    "# 이후 사용될 여러 기능 구현\n",
    "def imShow(path): # 결과 사진 출력 함수\n",
    "  import cv2\n",
    "  import matplotlib.pyplot as plt\n",
    "  %matplotlib inline\n",
    "\n",
    "  image = cv2.imread(path)\n",
    "  height, width = image.shape[:2]\n",
    "  resized_image = cv2.resize(image,(3*width, 3*height), interpolation = cv2.INTER_CUBIC)\n",
    "\n",
    "  fig = plt.gcf()\n",
    "  fig.set_size_inches(18, 10)\n",
    "  plt.axis(\"off\")\n",
    "  plt.imshow(cv2.cvtColor(resized_image, cv2.COLOR_BGR2RGB))\n",
    "  plt.show()\n",
    "\n",
    "def upload(): # 사용자 설정 파일 업로드 함수\n",
    "  from google.colab import files\n",
    "  uploaded = files.upload() \n",
    "  for name, data in uploaded.items():\n",
    "    with open(name, 'wb') as f:\n",
    "      f.write(data)\n",
    "      print ('saved file', name)\n",
    "\n",
    "def download(path): # 파일 다운로드 함수\n",
    "  from google.colab import files\n",
    "  files.download(path)"
   ]
  },
  {
   "cell_type": "code",
   "execution_count": 41,
   "id": "8dd3786c-4a35-4835-ab18-b1957848beff",
   "metadata": {},
   "outputs": [
    {
     "name": "stdout",
     "output_type": "stream",
     "text": [
      "Defaulting to user installation because normal site-packages is not writeable\n",
      "\u001b[31mERROR: Could not open requirements file: [Errno 2] No such file or directory: 'conda-forge'\u001b[0m\n"
     ]
    }
   ],
   "source": [
    "!pip3 install -c conda-forge node.js"
   ]
  },
  {
   "cell_type": "code",
   "execution_count": 4,
   "id": "f2fffe36-973f-402e-bed0-106b1f8c1220",
   "metadata": {},
   "outputs": [
    {
     "name": "stdout",
     "output_type": "stream",
     "text": [
      "Cloning into 'mAP'...\n",
      "remote: Enumerating objects: 908, done.\u001b[K\n",
      "remote: Total 908 (delta 0), reused 0 (delta 0), pack-reused 908\u001b[K\n",
      "Receiving objects: 100% (908/908), 14.71 MiB | 8.09 MiB/s, done.\n",
      "Resolving deltas: 100% (321/321), done.\n"
     ]
    }
   ],
   "source": [
    "!git clone https://github.com/Cartucho/mAP.git"
   ]
  },
  {
   "cell_type": "code",
   "execution_count": 4,
   "id": "375b406b-fc32-4759-9a28-96cd07cfc74e",
   "metadata": {},
   "outputs": [
    {
     "name": "stdout",
     "output_type": "stream",
     "text": [
      "/home/irteam/mAP/scripts/extra\n",
      "README.md\t\t     convert_gt_xml.py\t     intersect-gt-and-dr.py\n",
      "class_list.txt\t\t     convert_gt_yolo.py      result.txt\n",
      "convert_dr_darkflow_json.py  convert_keras-yolo3.py  result1.txt\n",
      "convert_dr_yolo.py\t     find_class.py\n"
     ]
    }
   ],
   "source": [
    "%cd mAP/scripts/extra\n",
    "!ls"
   ]
  },
  {
   "cell_type": "code",
   "execution_count": 12,
   "id": "83ca984b-f4b3-487f-a0d6-7316aa3265c3",
   "metadata": {},
   "outputs": [
    {
     "name": "stdout",
     "output_type": "stream",
     "text": [
      "Traceback (most recent call last):\n",
      "  File \"convert_dr_yolo.py\", line 20, in <module>\n",
      "    with open(IN_FILE) as infile:\n",
      "IOError: [Errno 2] No such file or directory: 'result.txt'\n"
     ]
    }
   ],
   "source": [
    "!python convert_dr_yolo.py"
   ]
  },
  {
   "cell_type": "code",
   "execution_count": null,
   "id": "3c988a4c-ebf0-4c6a-9936-81860a7b8810",
   "metadata": {},
   "outputs": [],
   "source": []
  }
 ],
 "metadata": {
  "kernelspec": {
   "display_name": "Python 3",
   "language": "python",
   "name": "python3"
  },
  "language_info": {
   "codemirror_mode": {
    "name": "ipython",
    "version": 3
   },
   "file_extension": ".py",
   "mimetype": "text/x-python",
   "name": "python",
   "nbconvert_exporter": "python",
   "pygments_lexer": "ipython3",
   "version": "3.6.9"
  }
 },
 "nbformat": 4,
 "nbformat_minor": 5
}
